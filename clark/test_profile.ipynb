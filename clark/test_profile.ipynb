{
 "cells": [
  {
   "cell_type": "code",
   "execution_count": 5,
   "id": "924d4823",
   "metadata": {},
   "outputs": [],
   "source": [
    "import treeple\n",
    "from treeple import ObliqueRandomForestClassifier\n",
    "from treeple.datasets.hyppo import make_trunk_classification\n",
    "#from treeple.datasets.test import print_line"
   ]
  },
  {
   "cell_type": "code",
   "execution_count": 6,
   "id": "5b014387",
   "metadata": {},
   "outputs": [
    {
     "name": "stdout",
     "output_type": "stream",
     "text": [
      "yesssss\n"
     ]
    }
   ],
   "source": [
    "#treeple_model = ObliqueRandomForestClassifier(**params_treeple1)\n",
    "X, y = make_trunk_classification(n_samples=10, n_dim=10, n_informative=10, seed=0)"
   ]
  },
  {
   "cell_type": "code",
   "execution_count": null,
   "id": "cc0bd82d",
   "metadata": {},
   "outputs": [],
   "source": []
  }
 ],
 "metadata": {
  "kernelspec": {
   "display_name": "treeple1",
   "language": "python",
   "name": "python3"
  },
  "language_info": {
   "codemirror_mode": {
    "name": "ipython",
    "version": 3
   },
   "file_extension": ".py",
   "mimetype": "text/x-python",
   "name": "python",
   "nbconvert_exporter": "python",
   "pygments_lexer": "ipython3",
   "version": "3.10.16"
  }
 },
 "nbformat": 4,
 "nbformat_minor": 5
}
