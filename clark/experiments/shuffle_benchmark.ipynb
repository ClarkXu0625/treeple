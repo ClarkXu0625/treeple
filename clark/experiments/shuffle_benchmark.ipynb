{
 "cells": [
  {
   "cell_type": "code",
   "execution_count": 3,
   "metadata": {},
   "outputs": [],
   "source": [
    "from treeple.datasets import make_trunk_classification\n",
    "import cProfile\n",
    "import pstats\n",
    "import io\n",
    "from utils.simulation import constant_nNonzeros_simulation_treeple\n"
   ]
  },
  {
   "cell_type": "code",
   "execution_count": null,
   "metadata": {},
   "outputs": [],
   "source": [
    "\n",
    "###\n",
    "# Shared hyperparameters that used for both models\n",
    "MAX_DEPTH = 10\n",
    "N_ESTIMATORS = 10\n",
    "RANDOM_SEED = 42\n",
    "N_JOBS=-1\n",
    "BOOTSTRAP = True\n",
    "MAX_FEATURE = 3000\n",
    "FEATURE_COMBINATIONS = 1000.0\n",
    "\n",
    "params_treeple = {}\n",
    "params_treeple[\"n_estimators\"] = int(N_ESTIMATORS)\n",
    "params_treeple[\"criterion\"] = \"entropy\"\n",
    "params_treeple[\"max_depth\"] = MAX_DEPTH\n",
    "params_treeple[\"min_samples_split\"] = 2\n",
    "params_treeple[\"min_samples_leaf\"] = 1\n",
    "params_treeple[\"min_weight_fraction_leaf\"] = 0.0\n",
    "params_treeple[\"max_features\"] = MAX_FEATURE\n",
    "params_treeple[\"max_leaf_nodes\"] = 30\n",
    "params_treeple[\"min_impurity_decrease\"] = 0.0\n",
    "params_treeple[\"bootstrap\"] = BOOTSTRAP\n",
    "params_treeple[\"oob_score\"] = False\n",
    "params_treeple[\"n_jobs\"] = N_JOBS\n",
    "params_treeple[\"random_state\"] = RANDOM_SEED\n",
    "params_treeple[\"verbose\"] = 0\n",
    "params_treeple[\"warm_start\"] = False\n",
    "params_treeple[\"class_weight\"] = None\n",
    "params_treeple[\"max_samples\"] = None\n",
    "params_treeple[\"feature_combinations\"] = FEATURE_COMBINATIONS\n"
   ]
  }
 ],
 "metadata": {
  "kernelspec": {
   "display_name": "treeple1",
   "language": "python",
   "name": "python3"
  },
  "language_info": {
   "codemirror_mode": {
    "name": "ipython",
    "version": 3
   },
   "file_extension": ".py",
   "mimetype": "text/x-python",
   "name": "python",
   "nbconvert_exporter": "python",
   "pygments_lexer": "ipython3",
   "version": "3.10.16"
  }
 },
 "nbformat": 4,
 "nbformat_minor": 2
}
