{
 "cells": [
  {
   "cell_type": "code",
   "execution_count": 2,
   "id": "419428a5",
   "metadata": {},
   "outputs": [],
   "source": [
    "import treeple\n",
    "from treeple.datasets import make_trunk_classification\n",
    "import pandas as pd"
   ]
  },
  {
   "cell_type": "code",
   "execution_count": 4,
   "id": "6c6b25bc",
   "metadata": {},
   "outputs": [],
   "source": [
    "def prepare_dataframe(X, y):\n",
    "    df = pd.DataFrame(X)\n",
    "    df.columns = [str(i) for i in df.columns]  # Convert column names to strings\n",
    "    df[\"target\"] = y.astype(int)  # Append target column\n",
    "\n",
    "    return df\n",
    "X, y = make_trunk_classification(n_samples=2000, n_dim=4096)"
   ]
  },
  {
   "cell_type": "code",
   "execution_count": 5,
   "id": "d7336574",
   "metadata": {},
   "outputs": [],
   "source": [
    "df = prepare_dataframe(X, y)\n",
    "df.to_csv(\"output.csv\", index=False)"
   ]
  },
  {
   "cell_type": "markdown",
   "id": "9fe4353b",
   "metadata": {},
   "source": [
    "To run the file\n",
    "\n",
    "$ bazel build //examples/ariel_rf_train\n",
    "\n",
    "$ ./bazel-bin/examples/ariel_rf_train /home/clark/Documents/GitHub/treeple/clark/datasets/output.csv target ./examples/clark_saved_model"
   ]
  },
  {
   "cell_type": "code",
   "execution_count": null,
   "id": "8022e630",
   "metadata": {},
   "outputs": [],
   "source": []
  }
 ],
 "metadata": {
  "kernelspec": {
   "display_name": "treeple",
   "language": "python",
   "name": "python3"
  },
  "language_info": {
   "codemirror_mode": {
    "name": "ipython",
    "version": 3
   },
   "file_extension": ".py",
   "mimetype": "text/x-python",
   "name": "python",
   "nbconvert_exporter": "python",
   "pygments_lexer": "ipython3",
   "version": "3.11.11"
  }
 },
 "nbformat": 4,
 "nbformat_minor": 5
}
