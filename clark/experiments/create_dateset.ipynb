{
 "cells": [
  {
   "cell_type": "code",
   "execution_count": null,
   "id": "419428a5",
   "metadata": {},
   "outputs": [],
   "source": [
    "import treeple\n",
    "from treeple.datasets import make_trunk_classification"
   ]
  }
 ],
 "metadata": {
  "kernelspec": {
   "display_name": "treeple",
   "language": "python",
   "name": "python3"
  },
  "language_info": {
   "name": "python",
   "version": "3.11.11"
  }
 },
 "nbformat": 4,
 "nbformat_minor": 5
}
